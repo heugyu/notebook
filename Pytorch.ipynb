{
  "nbformat": 4,
  "nbformat_minor": 0,
  "metadata": {
    "colab": {
      "name": "Pytorch.ipynb",
      "provenance": [],
      "authorship_tag": "ABX9TyMpfvnuKz/zMSfHpqtgQIro",
      "include_colab_link": true
    },
    "kernelspec": {
      "name": "python3",
      "display_name": "Python 3"
    },
    "accelerator": "GPU"
  },
  "cells": [
    {
      "cell_type": "markdown",
      "metadata": {
        "id": "view-in-github",
        "colab_type": "text"
      },
      "source": [
        "<a href=\"https://colab.research.google.com/github/heugyu/notebook/blob/master/Pytorch.ipynb\" target=\"_parent\"><img src=\"https://colab.research.google.com/assets/colab-badge.svg\" alt=\"Open In Colab\"/></a>"
      ]
    },
    {
      "cell_type": "code",
      "metadata": {
        "id": "3olIeV-4Yx5q",
        "colab_type": "code",
        "colab": {
          "base_uri": "https://localhost:8080/",
          "height": 35
        },
        "outputId": "e09b3216-5fe8-4019-a069-554761a32151"
      },
      "source": [
        "# Pytorch 패키지 설치\n",
        "!pip3 install torch"
      ],
      "execution_count": 2,
      "outputs": [
        {
          "output_type": "stream",
          "text": [
            "Requirement already satisfied: torch in /usr/local/lib/python3.6/dist-packages (1.4.0)\n"
          ],
          "name": "stdout"
        }
      ]
    },
    {
      "cell_type": "code",
      "metadata": {
        "id": "gfPKhFk9ZAhm",
        "colab_type": "code",
        "colab": {}
      },
      "source": [
        "import torch"
      ],
      "execution_count": 0,
      "outputs": []
    },
    {
      "cell_type": "code",
      "metadata": {
        "id": "EkntvIS9aRLa",
        "colab_type": "code",
        "colab": {
          "base_uri": "https://localhost:8080/",
          "height": 71
        },
        "outputId": "1600e000-8cb3-4da6-a8ba-de325a8cbe9b"
      },
      "source": [
        "x = torch.tensor([[1,2,3,], [4,5,6], [7,8,9]])\n",
        "print(x.size())\n",
        "print(x.shape)\n",
        "# 차원 정보 \n",
        "print(x.ndimension())\n",
        "\n",
        "# unsqueeze(), squeeze(), view() 함수로 텐서의 랭크와 shape의 인위적 변경 가능 "
      ],
      "execution_count": 7,
      "outputs": [
        {
          "output_type": "stream",
          "text": [
            "torch.Size([3, 3])\n",
            "torch.Size([3, 3])\n",
            "2\n"
          ],
          "name": "stdout"
        }
      ]
    },
    {
      "cell_type": "code",
      "metadata": {
        "id": "2YBXc5SYbPSY",
        "colab_type": "code",
        "colab": {
          "base_uri": "https://localhost:8080/",
          "height": 305
        },
        "outputId": "582f6433-f25f-487f-9d41-b6bc85e41a39"
      },
      "source": [
        "# 정규분포에서 무작위로 값을 뽑아 텐서를 생성하는 randn()\n",
        "w = torch.randn(5, 3, dtype=torch.float)\n",
        "x = torch.tensor([[1.0, 2.0], [3.0, 4.0], [5.0, 6.0]])\n",
        "\n",
        "print(w.size())\n",
        "print(x.size())\n",
        "\n",
        "print(w)\n",
        "print(x)\n",
        "\n",
        "# 행렬곱은 torch.mm() 함수 사용 -> matmul\n",
        "wx = torch.mm(w,x)\n",
        "print(wx.size())\n",
        "print(wx)\n",
        "\n",
        "# (5, 3) * (3 ,2) = (5, 2)"
      ],
      "execution_count": 9,
      "outputs": [
        {
          "output_type": "stream",
          "text": [
            "torch.Size([5, 3])\n",
            "torch.Size([3, 2])\n",
            "tensor([[-0.5459,  0.1215, -0.6685],\n",
            "        [-0.3041, -0.0787, -1.6572],\n",
            "        [-0.0633, -1.0126, -0.3969],\n",
            "        [ 0.4379, -0.3911,  0.1603],\n",
            "        [ 0.5228,  0.0526,  0.3264]])\n",
            "tensor([[1., 2.],\n",
            "        [3., 4.],\n",
            "        [5., 6.]])\n",
            "torch.Size([5, 2])\n",
            "tensor([[ -3.5240,  -4.6168],\n",
            "        [ -8.8260, -10.8659],\n",
            "        [ -5.0854,  -6.5582],\n",
            "        [  0.0660,   0.2732],\n",
            "        [  2.3127,   3.2146]])\n"
          ],
          "name": "stdout"
        }
      ]
    },
    {
      "cell_type": "markdown",
      "metadata": {
        "id": "UFAiyX8_fWQS",
        "colab_type": "text"
      },
      "source": [
        "### Autograd\n",
        "- 데이터의 정답(ground_truth)과 모델이 예측한 결과의 차이를 산술적으로 표현한 거리(distance)\n",
        "- 학습 데이터로 계산한 거리들의 평균을 오차(loss)\n",
        "- 오차가 작은 모델일수록 정확한 모델 \n",
        "- 오차를 최소화 하는 알고리즘 중 기본 -> 경사하강법(gradient decent)\n",
        "- 경사하강법, 오차를 수학 함수로 표현 후 미분하여 함수의 기울기를 구해 loss가 최소가 되는 방향을 찾는 알고리즘\n",
        "- **Pytorch의 Autograd는 미분 계산을 자동화 하여 경사 하강법을 구현 하는 수고를 덤**"
      ]
    },
    {
      "cell_type": "code",
      "metadata": {
        "id": "Afsf-uQcddN2",
        "colab_type": "code",
        "colab": {
          "base_uri": "https://localhost:8080/",
          "height": 35
        },
        "outputId": "9afdc6cd-13ad-45e2-8baf-6c0fa1d98d8d"
      },
      "source": [
        "# requires_grad = True\n",
        "# Pytorch의 Autograd 기능이 자동으로 계산할 때 w에 대한 미분값을 w.grad에 저장\n",
        "w = torch.tensor(1.0, requires_grad=True)\n",
        "a = w * 3\n",
        "l = a ** 2\n",
        "\n",
        "# l을 w로 미분하려면 연쇄법칙을 이용하여 a와 w로 차례대로 미분 \n",
        "# backward() 함수\n",
        "l.backward()\n",
        "print(w.grad)"
      ],
      "execution_count": 11,
      "outputs": [
        {
          "output_type": "stream",
          "text": [
            "tensor(18.)\n"
          ],
          "name": "stdout"
        }
      ]
    },
    {
      "cell_type": "markdown",
      "metadata": {
        "id": "hcD45arlkoPh",
        "colab_type": "text"
      },
      "source": [
        "### 인공신경망 (ANN)\n",
        "- 인공신경망(artificial neural network)은 인간의 뇌, 혹은 신경계의 작동 방식에서 영감\n",
        "![image](https://user-images.githubusercontent.com/60495142/75842561-f968b580-5e13-11ea-98ac-c7a2eb755651.png)\n",
        "\n",
        "- 각 층에 존재하는 매개변수인 가중치(weight)에 행렬곱\n",
        "- 편향(bias)을 더해주는 것\n",
        "- 가중치는 입력 신호가 출력에 주는 영향을 계산하는 매개변수\n",
        "- 편향은 각 노드가 얼마나 데이터에 민감한지 알려주는 매개변수\n",
        "- 행렬곱의 결과는 활성화 함수(activation function)을 거쳐 결과값 산출\n",
        "- 인공 신경망의 출력층의 결과값과 정답의 오차를 계산하여 출력층의 가중치 부터 입력층의 가중치 까지 모두 경사하강법을 활용해 변경\n",
        "- 뒤에서 부터 차례대로 조정하고 최적화 하는 알고리즘 역전파(Backpropagation)"
      ]
    },
    {
      "cell_type": "code",
      "metadata": {
        "id": "zXUPecFkng7b",
        "colab_type": "code",
        "colab": {}
      },
      "source": [
        ""
      ],
      "execution_count": 0,
      "outputs": []
    }
  ]
}