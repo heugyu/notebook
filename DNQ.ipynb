{
  "nbformat": 4,
  "nbformat_minor": 0,
  "metadata": {
    "colab": {
      "name": "DNQ.ipynb",
      "provenance": [],
      "authorship_tag": "ABX9TyPz83OMMIUhkNwQGXQ0kM6v",
      "include_colab_link": true
    },
    "kernelspec": {
      "name": "python3",
      "display_name": "Python 3"
    },
    "accelerator": "GPU"
  },
  "cells": [
    {
      "cell_type": "markdown",
      "metadata": {
        "id": "view-in-github",
        "colab_type": "text"
      },
      "source": [
        "<a href=\"https://colab.research.google.com/github/heugyu/notebook/blob/master/DNQ.ipynb\" target=\"_parent\"><img src=\"https://colab.research.google.com/assets/colab-badge.svg\" alt=\"Open In Colab\"/></a>"
      ]
    },
    {
      "cell_type": "markdown",
      "metadata": {
        "id": "872P5mZqdPUC",
        "colab_type": "text"
      },
      "source": [
        "### DNQ(deep-q-network)\n",
        "- 강화학습(reinfocement learning) - 자기 주도적 학습법 \n",
        "    - 상태(state)\n",
        "    - 에이전트(agent)\n",
        "    - 행동(action)\n",
        "    - 보상(reward)\n",
        "    - 기억하기(memorize)\n",
        "    - 보기(replay)"
      ]
    },
    {
      "cell_type": "code",
      "metadata": {
        "id": "PyjtapSYu_jp",
        "colab_type": "code",
        "colab": {
          "base_uri": "https://localhost:8080/",
          "height": 233
        },
        "outputId": "2a8a4556-2a1b-4568-e442-f8f0296158e2"
      },
      "source": [
        "!apt-get update"
      ],
      "execution_count": 5,
      "outputs": [
        {
          "output_type": "stream",
          "text": [
            "\r0% [Working]\r            \rHit:1 http://ppa.launchpad.net/graphics-drivers/ppa/ubuntu bionic InRelease\n",
            "\r0% [Waiting for headers] [Connecting to security.ubuntu.com (91.189.91.14)] [Co\r                                                                               \rHit:2 http://archive.ubuntu.com/ubuntu bionic InRelease\n",
            "\r0% [Waiting for headers] [Connecting to security.ubuntu.com (91.189.91.14)] [Wa\r                                                                               \rHit:3 http://archive.ubuntu.com/ubuntu bionic-updates InRelease\n",
            "\r0% [Waiting for headers] [Connecting to security.ubuntu.com (91.189.91.14)] [Wa\r0% [1 InRelease gpgv 21.3 kB] [Waiting for headers] [Connecting to security.ubu\r                                                                               \rHit:4 http://ppa.launchpad.net/marutter/c2d4u3.5/ubuntu bionic InRelease\n",
            "\r0% [1 InRelease gpgv 21.3 kB] [Waiting for headers] [Connecting to security.ubu\r                                                                               \rHit:5 http://archive.ubuntu.com/ubuntu bionic-backports InRelease\n",
            "\r0% [1 InRelease gpgv 21.3 kB] [Connecting to security.ubuntu.com (91.189.91.14)\r                                                                               \rHit:6 https://cloud.r-project.org/bin/linux/ubuntu bionic-cran35/ InRelease\n",
            "\r0% [1 InRelease gpgv 21.3 kB] [Connecting to security.ubuntu.com (91.189.91.14)\r                                                                               \rHit:7 http://security.ubuntu.com/ubuntu bionic-security InRelease\n",
            "\r                                                                               \r0% [1 InRelease gpgv 21.3 kB] [Waiting for headers]\r                                                   \r0% [Waiting for headers]\r0% [2 InRelease gpgv 242 kB] [Waiting for headers]\r                                                  \rIgn:8 https://developer.download.nvidia.com/compute/cuda/repos/ubuntu1804/x86_64  InRelease\n",
            "\r0% [2 InRelease gpgv 242 kB] [Waiting for headers]\r                                                  \r0% [Waiting for headers]\r0% [3 InRelease gpgv 88.7 kB] [Waiting for headers]\r                                                   \rIgn:9 https://developer.download.nvidia.com/compute/machine-learning/repos/ubuntu1804/x86_64  InRelease\n",
            "\r                                                   \r0% [3 InRelease gpgv 88.7 kB]\r                             \rHit:10 https://developer.download.nvidia.com/compute/cuda/repos/ubuntu1804/x86_64  Release\n",
            "Hit:11 https://developer.download.nvidia.com/compute/machine-learning/repos/ubuntu1804/x86_64  Release\n",
            "Reading package lists... Done\n"
          ],
          "name": "stdout"
        }
      ]
    },
    {
      "cell_type": "code",
      "metadata": {
        "id": "SsQ_03uMsMyG",
        "colab_type": "code",
        "colab": {}
      },
      "source": [
        "# Rendering Dependanceies\n",
        "!pip install gym pyvirtualdisplay > /dev/null 2>&1\n",
        "!apt-get install -y xvfb python-opengl ffmpeg  > /dev/null 2>&1"
      ],
      "execution_count": 0,
      "outputs": []
    },
    {
      "cell_type": "code",
      "metadata": {
        "id": "ZuebbdextR0_",
        "colab_type": "code",
        "colab": {
          "base_uri": "https://localhost:8080/",
          "height": 73
        },
        "outputId": "cd4d2a97-faf9-4bd3-f2ad-e7275def2b52"
      },
      "source": [
        "from pyvirtualdisplay import Display\n",
        "display = Display(visible=0, size=(400, 300))\n",
        "display.start()"
      ],
      "execution_count": 7,
      "outputs": [
        {
          "output_type": "stream",
          "text": [
            "xdpyinfo was not found, X start can not be checked! Please install xdpyinfo!\n"
          ],
          "name": "stderr"
        },
        {
          "output_type": "execute_result",
          "data": {
            "text/plain": [
              "<Display cmd_param=['Xvfb', '-br', '-nolisten', 'tcp', '-screen', '0', '400x300x24', ':1001'] cmd=['Xvfb', '-br', '-nolisten', 'tcp', '-screen', '0', '400x300x24', ':1001'] oserror=None return_code=None stdout=\"None\" stderr=\"None\" timeout_happened=False>"
            ]
          },
          "metadata": {
            "tags": []
          },
          "execution_count": 7
        }
      ]
    },
    {
      "cell_type": "code",
      "metadata": {
        "id": "kgsKiPL6vbAg",
        "colab_type": "code",
        "colab": {}
      },
      "source": [
        "from gym import logger as gymlogger\n",
        "from gym.wrappers import Monitor\n",
        "\n",
        "\"\"\"\n",
        "Utility functions to enable video recording of gym environment and displaying it\n",
        "To enable video, just do \"env = wrap_env(env)\"\"\n",
        "\"\"\"\n",
        "\n",
        "def show_video():\n",
        "  mp4list = glob.glob('video/*.mp4')\n",
        "  if len(mp4list) > 0:\n",
        "    mp4 = mp4list[0]\n",
        "    video = io.open(mp4, 'r+b').read()\n",
        "    encoded = base64.b64encode(video)\n",
        "    ipythondisplay.display(HTML(data='''<video alt=\"test\" autoplay \n",
        "                loop controls style=\"height: 400px;\">\n",
        "                <source src=\"data:video/mp4;base64,{0}\" type=\"video/mp4\" />\n",
        "             </video>'''.format(encoded.decode('ascii'))))\n",
        "  else: \n",
        "    print(\"Could not find video\")\n",
        "    \n",
        "\n",
        "def wrap_env(env):\n",
        "  env = Monitor(env, './video', force=True)\n",
        "  return env"
      ],
      "execution_count": 0,
      "outputs": []
    },
    {
      "cell_type": "code",
      "metadata": {
        "id": "zOfAEAwVeCs6",
        "colab_type": "code",
        "colab": {}
      },
      "source": [
        "# 카트폴\n",
        "import gym\n",
        "import random\n",
        "import math\n",
        "import torch\n",
        "import torch.nn as nn\n",
        "import torch.optim as optim\n",
        "import torch.nn.functional as F\n",
        "from collections import deque\n",
        "import matplotlib.pyplot as plt\n"
      ],
      "execution_count": 0,
      "outputs": []
    },
    {
      "cell_type": "code",
      "metadata": {
        "id": "7R0IIFm4fnEf",
        "colab_type": "code",
        "colab": {}
      },
      "source": [
        "# 하이퍼 파라미터\n",
        "EPISODES = 50   # 에피소드 반복 횟수\n",
        "EPS_START = 0.9 # 학습 시작 시 에이전트가 무작위로 행동할 확률\n",
        "EPS_END = 0.05  # 학습 막바지에 에이전트가 무작위로 행동할 확률\n",
        "EPS_DECAY = 200 # 학습 진행 시 에이전트가 무작위로 행동할 확률을 감소시키는 값\n",
        "GAMMA = 0.8     # 할인계수\n",
        "LR = 0.001      # 학습률\n",
        "BATCH_SIZE = 64 # 배치 크기 "
      ],
      "execution_count": 0,
      "outputs": []
    },
    {
      "cell_type": "code",
      "metadata": {
        "id": "tO2Z3o66g4NC",
        "colab_type": "code",
        "colab": {}
      },
      "source": [
        "# DQN Agent\n",
        "class DQNAgent:\n",
        "    def __init__(self):\n",
        "        self.model = nn.Sequential(\n",
        "            nn.Linear(4, 256),\n",
        "            nn.ReLU(),\n",
        "            nn.Linear(256, 2)\n",
        "        )\n",
        "        self.optimizer = optim.Adam(self.model.parameters(), LR)\n",
        "        self.steps_done = 0\n",
        "        self.memory = deque(maxlen=10000)\n",
        "    \n",
        "    def memorize(self, state, action, reward, next_state):\n",
        "        self.memory.append((state,\n",
        "                            action,\n",
        "                            torch.FloatTensor([reward]),\n",
        "                            torch.FloatTensor([next_state])))\n",
        "    \n",
        "    def act(self, state):\n",
        "        eps_threshold = EPS_END + (EPS_START - EPS_END) * math.exp(-1. * self.steps_done / EPS_DECAY)\n",
        "        self.steps_done += 1\n",
        "        if random.random() > eps_threshold:\n",
        "            return self.model(state).data.max(1)[1].view(1,1)\n",
        "        else:\n",
        "            return torch.LongTensor([[random.randrange(2)]])\n",
        "    \n",
        "    def learn(self):\n",
        "        if len(self.memory) < BATCH_SIZE:\n",
        "            return\n",
        "        batch = random.sample(self.memory, BATCH_SIZE)\n",
        "        states, actions, rewards, next_states = zip(*batch)\n",
        "        states = torch.cat(states)\n",
        "        actions = torch.cat(actions)\n",
        "        rewards = torch.cat(rewards)\n",
        "        next_states = torch.cat(next_states)\n",
        "\n",
        "        current_q = self.model(states).gather(1, actions)\n",
        "        max_next_q = self.model(next_states).detach().max(1)[0]\n",
        "        expected_q = rewards + (GAMMA * max_next_q )\n",
        "        \n",
        "        loss = F.mse_loss(current_q.squeeze(), expected_q)\n",
        "        self.optimizer.zero_grad()\n",
        "        loss.backward()\n",
        "        self.optimizer.step()"
      ],
      "execution_count": 0,
      "outputs": []
    },
    {
      "cell_type": "code",
      "metadata": {
        "id": "dMPjbG8boiln",
        "colab_type": "code",
        "colab": {
          "base_uri": "https://localhost:8080/",
          "height": 1000
        },
        "outputId": "55de72fe-0ff4-4fcd-a87f-9807a0f5be09"
      },
      "source": [
        "# 학습 준비하기\n",
        "agent = DQNAgent()\n",
        "env = wrap_env(gym.make('CartPole-v0'))\n",
        "score_history = []\n",
        "\n",
        "for e in range(1, EPISODES+1):\n",
        "    state = env.reset()\n",
        "    steps = 0\n",
        "\n",
        "    while True:\n",
        "        env.render()\n",
        "        state = torch.FloatTensor([state])\n",
        "        action = agent.act(state)\n",
        "        next_state, reward, done, _ = env.step(action.item())\n",
        "\n",
        "        # 게임이 끝났을 경우 마이너스 보상주기\n",
        "        if done:\n",
        "            reward = -1\n",
        "\n",
        "        agent.memorize(state, action, reward, next_state)\n",
        "        agent.learn()\n",
        "\n",
        "        state = next_state\n",
        "        steps += 1\n",
        "\n",
        "        if done:\n",
        "            print(f'에피소드 : {e} 점수 : {steps}')\n",
        "            score_history.append(steps)\n",
        "            break\n",
        "\n",
        "plt.plot(score_history)\n",
        "plt.ylabel('score')\n",
        "plt.show()"
      ],
      "execution_count": 17,
      "outputs": [
        {
          "output_type": "stream",
          "text": [
            "/usr/local/lib/python3.6/dist-packages/gym/logger.py:30: UserWarning: \u001b[33mWARN: Box bound precision lowered by casting to float32\u001b[0m\n",
            "  warnings.warn(colorize('%s: %s'%('WARN', msg % args), 'yellow'))\n"
          ],
          "name": "stderr"
        },
        {
          "output_type": "stream",
          "text": [
            "에피소드 : 1 점수 : 36\n",
            "에피소드 : 2 점수 : 28\n",
            "에피소드 : 3 점수 : 13\n",
            "에피소드 : 4 점수 : 27\n",
            "에피소드 : 5 점수 : 17\n",
            "에피소드 : 6 점수 : 16\n",
            "에피소드 : 7 점수 : 13\n",
            "에피소드 : 8 점수 : 11\n",
            "에피소드 : 9 점수 : 13\n",
            "에피소드 : 10 점수 : 13\n",
            "에피소드 : 11 점수 : 22\n",
            "에피소드 : 12 점수 : 11\n",
            "에피소드 : 13 점수 : 20\n",
            "에피소드 : 14 점수 : 12\n",
            "에피소드 : 15 점수 : 11\n",
            "에피소드 : 16 점수 : 18\n",
            "에피소드 : 17 점수 : 13\n",
            "에피소드 : 18 점수 : 9\n",
            "에피소드 : 19 점수 : 15\n",
            "에피소드 : 20 점수 : 10\n",
            "에피소드 : 21 점수 : 8\n",
            "에피소드 : 22 점수 : 16\n",
            "에피소드 : 23 점수 : 20\n",
            "에피소드 : 24 점수 : 31\n",
            "에피소드 : 25 점수 : 46\n",
            "에피소드 : 26 점수 : 111\n",
            "에피소드 : 27 점수 : 55\n",
            "에피소드 : 28 점수 : 188\n",
            "에피소드 : 29 점수 : 129\n",
            "에피소드 : 30 점수 : 133\n",
            "에피소드 : 31 점수 : 127\n",
            "에피소드 : 32 점수 : 112\n",
            "에피소드 : 33 점수 : 145\n",
            "에피소드 : 34 점수 : 129\n",
            "에피소드 : 35 점수 : 129\n",
            "에피소드 : 36 점수 : 195\n",
            "에피소드 : 37 점수 : 108\n",
            "에피소드 : 38 점수 : 128\n",
            "에피소드 : 39 점수 : 124\n",
            "에피소드 : 40 점수 : 200\n",
            "에피소드 : 41 점수 : 200\n",
            "에피소드 : 42 점수 : 167\n",
            "에피소드 : 43 점수 : 139\n",
            "에피소드 : 44 점수 : 200\n",
            "에피소드 : 45 점수 : 159\n",
            "에피소드 : 46 점수 : 189\n",
            "에피소드 : 47 점수 : 155\n",
            "에피소드 : 48 점수 : 183\n",
            "에피소드 : 49 점수 : 187\n",
            "에피소드 : 50 점수 : 199\n"
          ],
          "name": "stdout"
        },
        {
          "output_type": "display_data",
          "data": {
            "image/png": "[encoded data removed]",
            "text/plain": [
              "<Figure size 432x288 with 1 Axes>"
            ]
          },
          "metadata": {
            "tags": []
          }
        }
      ]
    },
    {
      "cell_type": "code",
      "metadata": {
        "id": "7gOR33qequru",
        "colab_type": "code",
        "colab": {}
      },
      "source": [
        ""
      ],
      "execution_count": 0,
      "outputs": []
    }
  ]
}